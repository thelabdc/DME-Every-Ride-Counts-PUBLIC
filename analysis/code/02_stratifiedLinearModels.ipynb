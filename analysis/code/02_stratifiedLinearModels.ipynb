{
 "cells": [
  {
   "cell_type": "code",
   "execution_count": 1,
   "metadata": {},
   "outputs": [
    {
     "name": "stderr",
     "output_type": "stream",
     "text": [
      "/datar10/opt/anaconda3/lib/python3.7/site-packages/statsmodels/compat/pandas.py:49: FutureWarning: The Panel class is removed from pandas. Accessing it from the top-level namespace will also be removed in the next version\n",
      "  data_klasses = (pandas.Series, pandas.DataFrame, pandas.Panel)\n"
     ]
    }
   ],
   "source": [
    "import pandas as pd\n",
    "from sklearn import linear_model\n",
    "import numpy as np\n",
    "from sklearn.metrics import mean_squared_error, r2_score\n",
    "import statsmodels.api as sm\n",
    "import statsmodels.formula.api as smf\n",
    "\n",
    "inputPath = '../input/'\n",
    "outputPath = '../output/'"
   ]
  },
  {
   "cell_type": "code",
   "execution_count": 2,
   "metadata": {},
   "outputs": [],
   "source": [
    "def create_strata(\n",
    "    df=None,\n",
    "    strata_list=[],\n",
    "    stratum_name='stratum'):\n",
    "    \n",
    "    magnitude = 0\n",
    "    block = pd.Series(np.zeros(shape=df.shape[0]), index=df.index).astype('int')\n",
    "    for strata_var in strata_list:\n",
    "        unit=1\n",
    "        for stratum in df[strata_var].unique():\n",
    "            block = block + pd.Series(df[strata_var].isin([stratum])) * unit * 10 ** magnitude\n",
    "            unit += 1\n",
    "        magnitude += 1\n",
    "    df[stratum_name] = block    \n",
    "    \n",
    "    return \n",
    "\n",
    "def createWeights(\n",
    "    df=None,\n",
    "    uid = 'USI',\n",
    "    treatment = 'is_treatment',\n",
    "    stratum='stratum',\n",
    "    weights='stratumWeights',\n",
    "    totalN = 'stratumTotalN',\n",
    "    treatedN = 'stratumTreatedN',\n",
    "    prob = 'stratumProb'):\n",
    "        \n",
    "    df[totalN] = df[uid].groupby(by=df[stratum]).transform('nunique')\n",
    "    df[treatedN] = df[treatment].groupby(by=df[stratum]).transform(np.sum)\n",
    "    df[prob] = df[treatedN] / df[totalN]\n",
    "    df[weights] = df[treatment] / df[prob] + (1 - df[treatment]) / (1 - df[prob])\n",
    "    \n",
    "    print('Strata:')\n",
    "    print(df[['stratum', 'stratumTotalN', 'stratumTreatedN', 'stratumProb', 'stratumWeights']].groupby('stratum').agg(np.mean))\n",
    "\n",
    "    if df['stratumWeights'].isna().any():\n",
    "        print('WARNING: had to drop observations because of weights = NA')\n",
    "        df.drop(index=df.loc[df['stratumWeights'].isna()].index, inplace=True)\n",
    "    \n",
    "    print('Weights')\n",
    "    print(df[weights].describe())\n",
    "    \n",
    "    return\n",
    "\n",
    "def randomThis(\n",
    "    df=None, \n",
    "    groupId=None, \n",
    "    isTreated=None):\n",
    "    \n",
    "    treatList = df[[groupId, isTreated]].drop_duplicates().reset_index(drop=True).copy()\n",
    "    treatList[isTreated] = treatList[isTreated].sample(frac=1).reset_index(drop=True)\n",
    "    \n",
    "    return df.drop(columns=[isTreated]).merge(treatList, on=groupId)\n",
    "\n",
    "def randomInfer(\n",
    "    df=None, \n",
    "    groupId=None, \n",
    "    isTreated=None, \n",
    "    X=None, \n",
    "    y=None,\n",
    "    w=None,\n",
    "    n=10000, \n",
    "    seed=42):\n",
    "    \n",
    "    if w == None:\n",
    "        w = 'stratumWeights'\n",
    "        df[w] = 1\n",
    "    \n",
    "    df = df[[groupId, isTreated, w] + X + y].copy()\n",
    "    results = doReg(df=df, X=X, isTreated=isTreated, y=y, w=w)\n",
    "    results['identifier'] = 'experiment'\n",
    "    \n",
    "    np.random.seed(seed)\n",
    "    for i in range(n):\n",
    "        rndDf = randomThis(df=df, groupId=groupId, isTreated=isTreated)\n",
    "        rndResults = doReg(df=rndDf, X=X, isTreated=isTreated, y=y, w=w)\n",
    "        rndResults['identifier'] = 'randomization'\n",
    "        results = results.append(rndResults)\n",
    "        \n",
    "    pValue = (results.loc[results['identifier'] == 'randomization', 'is_treatment'] >= (\n",
    "        results.loc[results['identifier'] == 'experiment', 'is_treatment'][0])).sum() / (\n",
    "        results.shape[0] - 1)\n",
    "\n",
    "    print('Results:')\n",
    "    print(results.loc[results['identifier'] == 'experiment'])\n",
    "    print('p-value for treatment =', pValue)\n",
    "\n",
    "    ax = results.loc[results['identifier'] == 'randomization', 'is_treatment'].hist(bins=100)\n",
    "    ax.axvline(results.loc[results['identifier'] == 'experiment', 'is_treatment'][0], color='red')\n",
    "    \n",
    "    return results, pValue\n",
    "\n",
    "def doReg(\n",
    "    df=None,\n",
    "    isTreated=None,\n",
    "    X=None, \n",
    "    y=None,\n",
    "    w=None):\n",
    "   \n",
    "    rndX = X + [isTreated]\n",
    "    regr = linear_model.LinearRegression()\n",
    "    regr.fit(df[rndX], df[y], df[w])\n",
    "    rndResults = {x[0]: x[1] for x in zip(rndX, regr.coef_[0])}\n",
    "    rndResults['Intercept'] = regr.intercept_\n",
    "    return pd.DataFrame(rndResults)\n",
    "    \n",
    "    "
   ]
  },
  {
   "cell_type": "markdown",
   "metadata": {},
   "source": [
    "# Analysis of 14-day results"
   ]
  },
  {
   "cell_type": "markdown",
   "metadata": {},
   "source": [
    "## Load data, create strata and weights"
   ]
  },
  {
   "cell_type": "markdown",
   "metadata": {},
   "source": [
    "### Levels"
   ]
  },
  {
   "cell_type": "code",
   "execution_count": 3,
   "metadata": {},
   "outputs": [
    {
     "name": "stdout",
     "output_type": "stream",
     "text": [
      "Strata:\n",
      "         stratumTotalN  stratumTreatedN  stratumProb  stratumWeights\n",
      "stratum                                                             \n",
      "111               19.0               10     0.526316             2.0\n",
      "112                7.0                3     0.428571             2.0\n",
      "121               21.0               11     0.523810             2.0\n",
      "122               24.0               15     0.625000             2.0\n",
      "211               14.0                7     0.500000             2.0\n",
      "212               12.0                7     0.583333             2.0\n",
      "221               36.0               16     0.444444             2.0\n",
      "222               29.0               16     0.551724             2.0\n",
      "311               25.0               13     0.520000             2.0\n",
      "312               15.0                6     0.400000             2.0\n",
      "321               16.0                9     0.562500             2.0\n",
      "322               13.0                3     0.230769             2.0\n",
      "411               16.0                7     0.437500             2.0\n",
      "412                8.0                5     0.625000             2.0\n",
      "421               26.0               12     0.461538             2.0\n",
      "422               31.0               17     0.548387             2.0\n",
      "511               23.0               11     0.478261             2.0\n",
      "512               31.0               15     0.483871             2.0\n",
      "522               16.0                6     0.375000             2.0\n",
      "Weights\n",
      "count    382.000000\n",
      "mean       2.000000\n",
      "std        0.348343\n",
      "min        1.300000\n",
      "25%        1.800000\n",
      "50%        1.930288\n",
      "75%        2.166667\n",
      "max        4.333333\n",
      "Name: stratumWeights, dtype: float64\n",
      "Number of observations for regressions: 382\n"
     ]
    }
   ],
   "source": [
    "df14Level = pd.read_csv(inputPath + 'studentsAttendance14.csv', index_col=0)\n",
    "\n",
    "df14Level['stratum2'] = (df14Level['max_transit'] / 60)  > 50\n",
    "df14Level['stratum3'] = df14Level['num_children'] > 2\n",
    "create_strata(df=df14Level, strata_list=['stratum2', 'stratum3', 'site_location'])\n",
    "df14Level.drop(columns=['stratum2', 'stratum3'], inplace=True)\n",
    "createWeights(df=df14Level)\n",
    "print('Number of observations for regressions:', df14Level.shape[0])"
   ]
  },
  {
   "cell_type": "markdown",
   "metadata": {},
   "source": [
    "### Differences"
   ]
  },
  {
   "cell_type": "code",
   "execution_count": 4,
   "metadata": {},
   "outputs": [
    {
     "name": "stdout",
     "output_type": "stream",
     "text": [
      "Strata:\n",
      "         stratumTotalN  stratumTreatedN  stratumProb  stratumWeights\n",
      "stratum                                                             \n",
      "111                9.0                4     0.444444             2.0\n",
      "112                4.0                2     0.500000             2.0\n",
      "121               12.0                8     0.666667             2.0\n",
      "122               21.0               12     0.571429             2.0\n",
      "211               13.0                7     0.538462             2.0\n",
      "212                9.0                5     0.555556             2.0\n",
      "221               33.0               16     0.484848             2.0\n",
      "222               18.0                9     0.500000             2.0\n",
      "311               18.0               12     0.666667             2.0\n",
      "312               13.0                5     0.384615             2.0\n",
      "321               13.0                9     0.692308             2.0\n",
      "322                6.0                3     0.500000             2.0\n",
      "411               15.0                7     0.466667             2.0\n",
      "412                6.0                3     0.500000             2.0\n",
      "421               24.0               12     0.500000             2.0\n",
      "422               27.0               17     0.629630             2.0\n",
      "511               21.0               10     0.476190             2.0\n",
      "512               30.0               15     0.500000             2.0\n",
      "522               16.0                6     0.375000             2.0\n",
      "Weights\n",
      "count    308.000000\n",
      "mean       2.000000\n",
      "std        0.372252\n",
      "min        1.444444\n",
      "25%        1.800000\n",
      "50%        2.000000\n",
      "75%        2.062500\n",
      "max        3.250000\n",
      "Name: stratumWeights, dtype: float64\n",
      "Number of observations for regressions: 308\n"
     ]
    }
   ],
   "source": [
    "df14Diff = pd.read_csv(inputPath + 'studentsAttendance14Diff.csv', index_col=0)\n",
    "df14Diff['stratum2'] = (df14Diff['max_transit'] / 60)  > 50\n",
    "df14Diff['stratum3'] = df14Diff['num_children'] > 2\n",
    "create_strata(df=df14Diff, strata_list=['stratum2', 'stratum3', 'site_location'])\n",
    "df14Diff.drop(columns=['stratum2', 'stratum3'], inplace=True)\n",
    "createWeights(df=df14Diff)\n",
    "print('Number of observations for regressions:', df14Diff.shape[0])"
   ]
  },
  {
   "cell_type": "markdown",
   "metadata": {},
   "source": [
    "## Regressions"
   ]
  },
  {
   "cell_type": "markdown",
   "metadata": {},
   "source": [
    "### Without other regressors"
   ]
  },
  {
   "cell_type": "markdown",
   "metadata": {},
   "source": [
    "#### Levels"
   ]
  },
  {
   "cell_type": "code",
   "execution_count": 5,
   "metadata": {},
   "outputs": [
    {
     "name": "stdout",
     "output_type": "stream",
     "text": [
      "Results:\n",
      "   is_treatment  Intercept  identifier\n",
      "0      0.038068   0.851142  experiment\n",
      "p-value for treatment = 0.086\n"
     ]
    },
    {
     "data": {
      "image/png": "[encoded data removed]",
      "text/plain": [
       "<Figure size 432x288 with 1 Axes>"
      ]
     },
     "metadata": {
      "needs_background": "light"
     },
     "output_type": "display_data"
    }
   ],
   "source": [
    "X = []\n",
    "y = ['attendanceRate']\n",
    "w = 'stratumWeights'\n",
    "results14LevelBase, pValue14LevelBase = randomInfer(df=df14Level, groupId='hmis_id', isTreated='is_treatment', X=X, y=y, w=w)"
   ]
  },
  {
   "cell_type": "markdown",
   "metadata": {},
   "source": [
    "#### Differences"
   ]
  },
  {
   "cell_type": "code",
   "execution_count": 6,
   "metadata": {},
   "outputs": [
    {
     "name": "stdout",
     "output_type": "stream",
     "text": [
      "Results:\n",
      "   attendanceRateBefore  is_treatment  Intercept  identifier\n",
      "0              0.552189      0.024119   0.382921  experiment\n",
      "p-value for treatment = 0.1556\n"
     ]
    },
    {
     "data": {
      "image/png": "[encoded data removed]",
      "text/plain": [
       "<Figure size 432x288 with 1 Axes>"
      ]
     },
     "metadata": {
      "needs_background": "light"
     },
     "output_type": "display_data"
    }
   ],
   "source": [
    "X = ['attendanceRateBefore']\n",
    "y = ['attendanceRate']\n",
    "w = 'stratumWeights'\n",
    "results14DiffBase, pValue14DiffBase = randomInfer(df=df14Diff, groupId='hmis_id', isTreated='is_treatment', X=X, y=y, w=w)"
   ]
  },
  {
   "cell_type": "markdown",
   "metadata": {},
   "source": [
    "### With additional regressors\n",
    "\n",
    "Student-level: age\n",
    "Household-level: number of adults, number of children, has car"
   ]
  },
  {
   "cell_type": "markdown",
   "metadata": {},
   "source": [
    "#### Levels"
   ]
  },
  {
   "cell_type": "code",
   "execution_count": 7,
   "metadata": {},
   "outputs": [
    {
     "name": "stdout",
     "output_type": "stream",
     "text": [
      "Results:\n",
      "        age  num_adults  num_children   has_car  is_treatment  Intercept  \\\n",
      "0 -0.005123    0.005212      0.021535  0.001972      0.043605    0.82196   \n",
      "\n",
      "   identifier  \n",
      "0  experiment  \n",
      "p-value for treatment = 0.0613\n"
     ]
    },
    {
     "data": {
      "image/png": "[encoded data removed]",
      "text/plain": [
       "<Figure size 432x288 with 1 Axes>"
      ]
     },
     "metadata": {
      "needs_background": "light"
     },
     "output_type": "display_data"
    }
   ],
   "source": [
    "X = ['age', 'num_adults', 'num_children', 'has_car']\n",
    "y = ['attendanceRate']\n",
    "w = 'stratumWeights'\n",
    "results14LevelAdditional, pValue14LevelAdditional = randomInfer(df=df14Level, groupId='hmis_id', isTreated='is_treatment', X=X, y=y, w=w)"
   ]
  },
  {
   "cell_type": "markdown",
   "metadata": {},
   "source": [
    "#### Differences"
   ]
  },
  {
   "cell_type": "code",
   "execution_count": 15,
   "metadata": {},
   "outputs": [
    {
     "name": "stdout",
     "output_type": "stream",
     "text": [
      "Results:\n",
      "        age  num_adults  num_children   has_car  attendanceRateBefore  \\\n",
      "0 -0.001121   -0.003495       0.01864 -0.018952               0.54235   \n",
      "\n",
      "   is_treatment  Intercept  identifier  \n",
      "0      0.026473   0.358716  experiment  \n",
      "p-value for treatment = 0.1375\n"
     ]
    },
    {
     "data": {
      "image/png": "[encoded data removed]",
      "text/plain": [
       "<Figure size 432x288 with 1 Axes>"
      ]
     },
     "metadata": {
      "needs_background": "light"
     },
     "output_type": "display_data"
    }
   ],
   "source": [
    "X = ['age', 'num_adults', 'num_children', 'has_car', 'attendanceRateBefore']\n",
    "y = ['attendanceRate']\n",
    "w = 'stratumWeights'\n",
    "results14DiffAdditional, pValue14DiffAdditional = randomInfer(df=df14Diff, groupId='hmis_id', isTreated='is_treatment', X=X, y=y, w=w)"
   ]
  },
  {
   "cell_type": "markdown",
   "metadata": {},
   "source": [
    "# Analysis of 30-day results"
   ]
  },
  {
   "cell_type": "markdown",
   "metadata": {},
   "source": [
    "## Load data, create strata and weights"
   ]
  },
  {
   "cell_type": "markdown",
   "metadata": {},
   "source": [
    "### Levels"
   ]
  },
  {
   "cell_type": "code",
   "execution_count": 9,
   "metadata": {},
   "outputs": [
    {
     "name": "stdout",
     "output_type": "stream",
     "text": [
      "Strata:\n",
      "         stratumTotalN  stratumTreatedN  stratumProb  stratumWeights\n",
      "stratum                                                             \n",
      "111                 19               10     0.526316             2.0\n",
      "112                  7                3     0.428571             2.0\n",
      "121                 22               11     0.500000             2.0\n",
      "122                 19               10     0.526316             2.0\n",
      "211                 14                7     0.500000             2.0\n",
      "212                 12                6     0.500000             2.0\n",
      "221                 34               14     0.411765             2.0\n",
      "222                 26               13     0.500000             2.0\n",
      "311                 23               13     0.565217             2.0\n",
      "312                 15                6     0.400000             2.0\n",
      "321                 16                9     0.562500             2.0\n",
      "322                 10                0     0.000000             NaN\n",
      "411                 15                7     0.466667             2.0\n",
      "412                  6                3     0.500000             2.0\n",
      "421                 23                9     0.391304             2.0\n",
      "422                 29               15     0.517241             2.0\n",
      "511                 23               11     0.478261             2.0\n",
      "512                 28               15     0.535714             2.0\n",
      "522                 16                6     0.375000             2.0\n",
      "WARNING: had to drop observations because of weights = NA\n",
      "Weights\n",
      "count    347.000000\n",
      "mean       2.000000\n",
      "std        0.243231\n",
      "min        1.600000\n",
      "25%        1.866667\n",
      "50%        2.000000\n",
      "75%        2.111111\n",
      "max        2.666667\n",
      "Name: stratumWeights, dtype: float64\n",
      "Number of observations for regressions: 347\n"
     ]
    }
   ],
   "source": [
    "df30Level = pd.read_csv(inputPath + 'studentsAttendance30.csv', index_col=0)\n",
    "\n",
    "df30Level['stratum2'] = (df30Level['max_transit'] / 60)  > 50\n",
    "df30Level['stratum3'] = df30Level['num_children'] > 2\n",
    "create_strata(df=df30Level, strata_list=['stratum2', 'stratum3', 'site_location'])\n",
    "df30Level.drop(columns=['stratum2', 'stratum3'], inplace=True)\n",
    "createWeights(df=df30Level)\n",
    "print('Number of observations for regressions:', df30Level.shape[0])"
   ]
  },
  {
   "cell_type": "markdown",
   "metadata": {},
   "source": [
    "### Differences"
   ]
  },
  {
   "cell_type": "code",
   "execution_count": 10,
   "metadata": {},
   "outputs": [
    {
     "name": "stdout",
     "output_type": "stream",
     "text": [
      "Strata:\n",
      "         stratumTotalN  stratumTreatedN  stratumProb  stratumWeights\n",
      "stratum                                                             \n",
      "111                  9                4     0.444444             2.0\n",
      "112                  4                2     0.500000             2.0\n",
      "121                  7                6     0.857143             2.0\n",
      "122                 13                4     0.307692             2.0\n",
      "211                 13                7     0.538462             2.0\n",
      "212                  7                4     0.571429             2.0\n",
      "221                 30               13     0.433333             2.0\n",
      "222                 14                6     0.428571             2.0\n",
      "311                 16               12     0.750000             2.0\n",
      "312                 12                4     0.333333             2.0\n",
      "321                 13                9     0.692308             2.0\n",
      "322                  3                0     0.000000             NaN\n",
      "411                 14                7     0.500000             2.0\n",
      "412                  4                1     0.250000             2.0\n",
      "421                 21                9     0.428571             2.0\n",
      "422                 25               15     0.600000             2.0\n",
      "511                 21               10     0.476190             2.0\n",
      "512                 27               15     0.555556             2.0\n",
      "522                 16                6     0.375000             2.0\n",
      "WARNING: had to drop observations because of weights = NA\n",
      "Weights\n",
      "count    266.000000\n",
      "mean       2.000000\n",
      "std        0.602807\n",
      "min        1.166667\n",
      "25%        1.666667\n",
      "50%        1.828571\n",
      "75%        2.250000\n",
      "max        7.000000\n",
      "Name: stratumWeights, dtype: float64\n",
      "Number of observations for regressions: 266\n"
     ]
    }
   ],
   "source": [
    "df30Diff = pd.read_csv(inputPath + 'studentsAttendance30Diff.csv', index_col=0)\n",
    "df30Diff['stratum2'] = (df30Diff['max_transit'] / 60)  > 50\n",
    "df30Diff['stratum3'] = df30Diff['num_children'] > 2\n",
    "create_strata(df=df30Diff, strata_list=['stratum2', 'stratum3', 'site_location'])\n",
    "df30Diff.drop(columns=['stratum2', 'stratum3'], inplace=True)\n",
    "createWeights(df=df30Diff)\n",
    "print('Number of observations for regressions:', df30Diff.shape[0])"
   ]
  },
  {
   "cell_type": "markdown",
   "metadata": {},
   "source": [
    "## Regressions"
   ]
  },
  {
   "cell_type": "markdown",
   "metadata": {},
   "source": [
    "### Without other regressors"
   ]
  },
  {
   "cell_type": "markdown",
   "metadata": {},
   "source": [
    "#### Levels"
   ]
  },
  {
   "cell_type": "code",
   "execution_count": 11,
   "metadata": {},
   "outputs": [
    {
     "name": "stdout",
     "output_type": "stream",
     "text": [
      "Results:\n",
      "   is_treatment  Intercept  identifier\n",
      "0      0.036637   0.844107  experiment\n",
      "p-value for treatment = 0.0954\n"
     ]
    },
    {
     "data": {
      "image/png": "[encoded data removed]",
      "text/plain": [
       "<Figure size 432x288 with 1 Axes>"
      ]
     },
     "metadata": {
      "needs_background": "light"
     },
     "output_type": "display_data"
    }
   ],
   "source": [
    "X = []\n",
    "y = ['attendanceRate']\n",
    "w = 'stratumWeights'\n",
    "results30LevelBase, pValue30LevelBase = randomInfer(df=df30Level, groupId='hmis_id', isTreated='is_treatment', X=X, y=y, w=w)"
   ]
  },
  {
   "cell_type": "markdown",
   "metadata": {},
   "source": [
    "#### Differences"
   ]
  },
  {
   "cell_type": "code",
   "execution_count": 12,
   "metadata": {},
   "outputs": [
    {
     "name": "stdout",
     "output_type": "stream",
     "text": [
      "Results:\n",
      "   attendanceRateBefore  is_treatment  Intercept  identifier\n",
      "0              0.607913      0.008119    0.33852  experiment\n",
      "p-value for treatment = 0.3731\n"
     ]
    },
    {
     "data": {
      "image/png": "[encoded data removed]",
      "text/plain": [
       "<Figure size 432x288 with 1 Axes>"
      ]
     },
     "metadata": {
      "needs_background": "light"
     },
     "output_type": "display_data"
    }
   ],
   "source": [
    "X = ['attendanceRateBefore']\n",
    "y = ['attendanceRate']\n",
    "w = 'stratumWeights'\n",
    "results30DiffBase, pValue30DiffBase = randomInfer(df=df30Diff, groupId='hmis_id', isTreated='is_treatment', X=X, y=y, w=w)"
   ]
  },
  {
   "cell_type": "markdown",
   "metadata": {},
   "source": [
    "### With additional regressors\n",
    "\n",
    "Student-level: age\n",
    "Household-level: number of adults, number of children, has car"
   ]
  },
  {
   "cell_type": "markdown",
   "metadata": {},
   "source": [
    "#### Level"
   ]
  },
  {
   "cell_type": "code",
   "execution_count": 16,
   "metadata": {},
   "outputs": [
    {
     "name": "stdout",
     "output_type": "stream",
     "text": [
      "Results:\n",
      "        age  num_adults  num_children   has_car  is_treatment  Intercept  \\\n",
      "0 -0.006075    0.032222      0.018366  0.016726      0.037915   0.796026   \n",
      "\n",
      "   identifier  \n",
      "0  experiment  \n",
      "p-value for treatment = 0.0864\n"
     ]
    },
    {
     "data": {
      "image/png": "[encoded data removed]",
      "text/plain": [
       "<Figure size 432x288 with 1 Axes>"
      ]
     },
     "metadata": {
      "needs_background": "light"
     },
     "output_type": "display_data"
    }
   ],
   "source": [
    "X = ['age', 'num_adults', 'num_children', 'has_car']\n",
    "y = ['attendanceRate']\n",
    "w = 'stratumWeights'\n",
    "results30LevelAdditional, pValue30LevelAdditional = randomInfer(df=df30Level, groupId='hmis_id', isTreated='is_treatment', X=X, y=y, w=w)"
   ]
  },
  {
   "cell_type": "markdown",
   "metadata": {},
   "source": [
    "#### Differences"
   ]
  },
  {
   "cell_type": "code",
   "execution_count": 13,
   "metadata": {},
   "outputs": [
    {
     "name": "stdout",
     "output_type": "stream",
     "text": [
      "Results:\n",
      "        age  num_adults  num_children   has_car  attendanceRateBefore  \\\n",
      "0 -0.004952    0.024942      0.022396 -0.020389              0.594199   \n",
      "\n",
      "   is_treatment  Intercept  identifier  \n",
      "0       0.01082   0.304427  experiment  \n",
      "p-value for treatment = 0.3362\n"
     ]
    },
    {
     "data": {
      "image/png": "[encoded data removed]",
      "text/plain": [
       "<Figure size 432x288 with 1 Axes>"
      ]
     },
     "metadata": {
      "needs_background": "light"
     },
     "output_type": "display_data"
    }
   ],
   "source": [
    "X = ['age', 'num_adults', 'num_children', 'has_car', 'attendanceRateBefore']\n",
    "y = ['attendanceRate']\n",
    "w = 'stratumWeights'\n",
    "results30DiffAdditional, pValue30DiffAdditional = randomInfer(df=df30Diff, groupId='hmis_id', isTreated='is_treatment', X=X, y=y, w=w)"
   ]
  },
  {
   "cell_type": "code",
   "execution_count": null,
   "metadata": {},
   "outputs": [],
   "source": []
  },
  {
   "cell_type": "code",
   "execution_count": 17,
   "metadata": {},
   "outputs": [],
   "source": [
    "for fileName in [(results14LevelBase, 'results14LevelBase'), \n",
    "                 (results30LevelBase, 'results30LevelBase'), \n",
    "                 (results14DiffBase, 'results14DiffBase'), \n",
    "                 (results30DiffBase, 'results30DiffBase'),\n",
    "                 (results14LevelAdditional, 'results14LevelAdditional'), \n",
    "                 (results30LevelAdditional, 'results30LevelAdditional'), \n",
    "                 (results14DiffAdditional, 'results14DiffAdditional'), \n",
    "                 (results30DiffAdditional, 'results30DiffAdditional')]:\n",
    "    fileName[0].to_csv('../output/' + fileName[1] + '.csv')"
   ]
  },
  {
   "cell_type": "code",
   "execution_count": null,
   "metadata": {},
   "outputs": [],
   "source": []
  }
 ],
 "metadata": {
  "kernelspec": {
   "display_name": "Python 3",
   "language": "python",
   "name": "python3"
  },
  "language_info": {
   "codemirror_mode": {
    "name": "ipython",
    "version": 3
   },
   "file_extension": ".py",
   "mimetype": "text/x-python",
   "name": "python",
   "nbconvert_exporter": "python",
   "pygments_lexer": "ipython3",
   "version": "3.7.2"
  }
 },
 "nbformat": 4,
 "nbformat_minor": 4
}
